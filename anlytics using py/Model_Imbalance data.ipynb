{
  "cells": [
    {
      "metadata": {
        "trusted": true
      },
      "cell_type": "code",
      "source": "import numpy as np\nimport pandas as pd\nimport matplotlib.pyplot as plt\n%matplotlib inline\nimport seaborn as sas",
      "execution_count": 1,
      "outputs": []
    },
    {
      "metadata": {
        "trusted": true
      },
      "cell_type": "code",
      "source": "FTrial = pd.read_csv('control_trial_results_dummy.csv')",
      "execution_count": 2,
      "outputs": []
    },
    {
      "metadata": {
        "trusted": true,
        "scrolled": true
      },
      "cell_type": "code",
      "source": "FTrial = FTrial.drop('Unnamed: 0', axis=1, inplace=False)\nFTrial.head()",
      "execution_count": 3,
      "outputs": [
        {
          "output_type": "execute_result",
          "execution_count": 3,
          "data": {
            "text/plain": "   user_id  date  source  device  payee  browser  sex  age  industry  trial\n0     1292     1       1       0      1        1    0   34         1      1\n1     1821     1       1       0      1        1    0   33         1      0\n2     1922     1       0       0      1        1    0   30         1      0\n3     3039     1       1       1      1        1    0   47         1      0\n4     4130     1       1       1      1        1    1   35         1      0",
            "text/html": "<div>\n<table border=\"1\" class=\"dataframe\">\n  <thead>\n    <tr style=\"text-align: right;\">\n      <th></th>\n      <th>user_id</th>\n      <th>date</th>\n      <th>source</th>\n      <th>device</th>\n      <th>payee</th>\n      <th>browser</th>\n      <th>sex</th>\n      <th>age</th>\n      <th>industry</th>\n      <th>trial</th>\n    </tr>\n  </thead>\n  <tbody>\n    <tr>\n      <th>0</th>\n      <td>1292</td>\n      <td>1</td>\n      <td>1</td>\n      <td>0</td>\n      <td>1</td>\n      <td>1</td>\n      <td>0</td>\n      <td>34</td>\n      <td>1</td>\n      <td>1</td>\n    </tr>\n    <tr>\n      <th>1</th>\n      <td>1821</td>\n      <td>1</td>\n      <td>1</td>\n      <td>0</td>\n      <td>1</td>\n      <td>1</td>\n      <td>0</td>\n      <td>33</td>\n      <td>1</td>\n      <td>0</td>\n    </tr>\n    <tr>\n      <th>2</th>\n      <td>1922</td>\n      <td>1</td>\n      <td>0</td>\n      <td>0</td>\n      <td>1</td>\n      <td>1</td>\n      <td>0</td>\n      <td>30</td>\n      <td>1</td>\n      <td>0</td>\n    </tr>\n    <tr>\n      <th>3</th>\n      <td>3039</td>\n      <td>1</td>\n      <td>1</td>\n      <td>1</td>\n      <td>1</td>\n      <td>1</td>\n      <td>0</td>\n      <td>47</td>\n      <td>1</td>\n      <td>0</td>\n    </tr>\n    <tr>\n      <th>4</th>\n      <td>4130</td>\n      <td>1</td>\n      <td>1</td>\n      <td>1</td>\n      <td>1</td>\n      <td>1</td>\n      <td>1</td>\n      <td>35</td>\n      <td>1</td>\n      <td>0</td>\n    </tr>\n  </tbody>\n</table>\n</div>"
          },
          "metadata": {}
        }
      ]
    },
    {
      "metadata": {
        "trusted": true
      },
      "cell_type": "code",
      "source": "FTrial.tail(5)",
      "execution_count": 6,
      "outputs": [
        {
          "output_type": "execute_result",
          "execution_count": 6,
          "data": {
            "text/plain": "         user_id  date  source  device  payee  browser  sex  age  industry  \\\n181391  99997027     1       1       1      1        0    1   43         1   \n181392  99997987     1       1       1      1        0    0   32         1   \n181393  99998300     1       0       0      1        1    0   37         1   \n181394  99999080     1       1       1      1        1    0   35         1   \n181395  99999431     1       0       1      1        0    0   36         1   \n\n        trial  \n181391      0  \n181392      0  \n181393      0  \n181394      0  \n181395      0  ",
            "text/html": "<div>\n<table border=\"1\" class=\"dataframe\">\n  <thead>\n    <tr style=\"text-align: right;\">\n      <th></th>\n      <th>user_id</th>\n      <th>date</th>\n      <th>source</th>\n      <th>device</th>\n      <th>payee</th>\n      <th>browser</th>\n      <th>sex</th>\n      <th>age</th>\n      <th>industry</th>\n      <th>trial</th>\n    </tr>\n  </thead>\n  <tbody>\n    <tr>\n      <th>181391</th>\n      <td>99997027</td>\n      <td>1</td>\n      <td>1</td>\n      <td>1</td>\n      <td>1</td>\n      <td>0</td>\n      <td>1</td>\n      <td>43</td>\n      <td>1</td>\n      <td>0</td>\n    </tr>\n    <tr>\n      <th>181392</th>\n      <td>99997987</td>\n      <td>1</td>\n      <td>1</td>\n      <td>1</td>\n      <td>1</td>\n      <td>0</td>\n      <td>0</td>\n      <td>32</td>\n      <td>1</td>\n      <td>0</td>\n    </tr>\n    <tr>\n      <th>181393</th>\n      <td>99998300</td>\n      <td>1</td>\n      <td>0</td>\n      <td>0</td>\n      <td>1</td>\n      <td>1</td>\n      <td>0</td>\n      <td>37</td>\n      <td>1</td>\n      <td>0</td>\n    </tr>\n    <tr>\n      <th>181394</th>\n      <td>99999080</td>\n      <td>1</td>\n      <td>1</td>\n      <td>1</td>\n      <td>1</td>\n      <td>1</td>\n      <td>0</td>\n      <td>35</td>\n      <td>1</td>\n      <td>0</td>\n    </tr>\n    <tr>\n      <th>181395</th>\n      <td>99999431</td>\n      <td>1</td>\n      <td>0</td>\n      <td>1</td>\n      <td>1</td>\n      <td>0</td>\n      <td>0</td>\n      <td>36</td>\n      <td>1</td>\n      <td>0</td>\n    </tr>\n  </tbody>\n</table>\n</div>"
          },
          "metadata": {}
        }
      ]
    },
    {
      "metadata": {
        "trusted": true
      },
      "cell_type": "code",
      "source": "FTrial.shape",
      "execution_count": 5,
      "outputs": [
        {
          "output_type": "execute_result",
          "execution_count": 5,
          "data": {
            "text/plain": "(181396, 10)"
          },
          "metadata": {}
        }
      ]
    },
    {
      "metadata": {
        "trusted": true
      },
      "cell_type": "code",
      "source": "FTrial.columns",
      "execution_count": 6,
      "outputs": [
        {
          "output_type": "execute_result",
          "execution_count": 6,
          "data": {
            "text/plain": "Index(['user_id', 'date', 'source', 'device', 'payee', 'browser', 'sex', 'age',\n       'industry', 'trial'],\n      dtype='object')"
          },
          "metadata": {}
        }
      ]
    },
    {
      "metadata": {
        "trusted": true
      },
      "cell_type": "code",
      "source": "FTrial.info()",
      "execution_count": 7,
      "outputs": [
        {
          "output_type": "stream",
          "text": "<class 'pandas.core.frame.DataFrame'>\nRangeIndex: 181396 entries, 0 to 181395\nData columns (total 10 columns):\nuser_id     181396 non-null int64\ndate        181396 non-null int64\nsource      181396 non-null int64\ndevice      181396 non-null int64\npayee       181396 non-null int64\nbrowser     181396 non-null int64\nsex         181396 non-null int64\nage         181396 non-null int64\nindustry    181396 non-null int64\ntrial       181396 non-null int64\ndtypes: int64(10)\nmemory usage: 13.8 MB\n",
          "name": "stdout"
        }
      ]
    },
    {
      "metadata": {
        "trusted": true
      },
      "cell_type": "code",
      "source": "# convert int TV to object\nFTrial['trial']=FTrial['trial'].apply(str)",
      "execution_count": null,
      "outputs": []
    },
    {
      "metadata": {
        "trusted": true
      },
      "cell_type": "code",
      "source": "FTrial['trial'].value_counts()",
      "execution_count": 8,
      "outputs": [
        {
          "output_type": "execute_result",
          "execution_count": 8,
          "data": {
            "text/plain": "0    171401\n1      9995\nName: trial, dtype: int64"
          },
          "metadata": {}
        }
      ]
    },
    {
      "metadata": {},
      "cell_type": "markdown",
      "source": "# Conversion rate analysis"
    },
    {
      "metadata": {
        "trusted": true
      },
      "cell_type": "code",
      "source": "# Filter FTrial to show only control users data\nFTrial[FTrial['group']=='Control'].head(3)",
      "execution_count": null,
      "outputs": []
    },
    {
      "metadata": {
        "trusted": true
      },
      "cell_type": "code",
      "source": "# Filter FTrial to show only test users data\nFTrial[FTrial['group']=='Test'].head(3)",
      "execution_count": null,
      "outputs": []
    },
    {
      "metadata": {
        "trusted": true
      },
      "cell_type": "code",
      "source": "def conversion_rate_plots (segment_by, filtered_data):\n    \n    #initialize subplots for 2 columns\n    fig, (ax1, ax2)= plt.subplots(ncols=2, sharey=False, figsize=(14,6))\n    \n    #on the left, plot the distribution\n    sas.countplot(x=segment_by, data=filtered_data, ax=ax1)\n    \n    #on the right, plot the conversion rate\n    sas.barplot(x=segment_by,y='trial', data=filtered_data, ax=ax2)\n    \n    #Set title\n    plt.title('conversion rate by {}'.format(segment_by.capitalize()))\n    plt.show",
      "execution_count": null,
      "outputs": []
    },
    {
      "metadata": {
        "trusted": true
      },
      "cell_type": "code",
      "source": "# Control users\nconversion_rate_plots(segment_by='source', filtered_data=FTrial[FTrial['group']=='Control'])",
      "execution_count": null,
      "outputs": []
    },
    {
      "metadata": {
        "trusted": true
      },
      "cell_type": "code",
      "source": "# Test users\nconversion_rate_plots(segment_by='source', filtered_data=FTrial[FTrial['group']=='Test'])",
      "execution_count": null,
      "outputs": []
    },
    {
      "metadata": {
        "trusted": true
      },
      "cell_type": "code",
      "source": "# All users\nconversion_rate_plots(segment_by='source', filtered_data=FTrial)",
      "execution_count": null,
      "outputs": []
    },
    {
      "metadata": {
        "trusted": true
      },
      "cell_type": "code",
      "source": "# Control users\nconversion_rate_plots(segment_by='device',filtered_data=FTrial[FTrial['group']=='Control'])",
      "execution_count": null,
      "outputs": []
    },
    {
      "metadata": {
        "trusted": true
      },
      "cell_type": "code",
      "source": "# Test users\nconversion_rate_plots(segment_by='device',filtered_data=FTrial[FTrial['group']=='Test'])",
      "execution_count": null,
      "outputs": []
    },
    {
      "metadata": {
        "trusted": true
      },
      "cell_type": "code",
      "source": "# All users\nconversion_rate_plots(segment_by='device',filtered_data=FTrial)",
      "execution_count": null,
      "outputs": []
    },
    {
      "metadata": {
        "trusted": true
      },
      "cell_type": "code",
      "source": "# Control users\nconversion_rate_plots(segment_by='browser',filtered_data=FTrial[FTrial['group']=='Control'])",
      "execution_count": null,
      "outputs": []
    },
    {
      "metadata": {
        "trusted": true
      },
      "cell_type": "code",
      "source": "# Test users\nconversion_rate_plots(segment_by='browser',filtered_data=FTrial[FTrial['group']=='Test'])",
      "execution_count": null,
      "outputs": []
    },
    {
      "metadata": {
        "trusted": true
      },
      "cell_type": "code",
      "source": "# All users\nconversion_rate_plots(segment_by='browser')",
      "execution_count": null,
      "outputs": []
    },
    {
      "metadata": {
        "trusted": true
      },
      "cell_type": "code",
      "source": "# Control users\nconversion_rate_plots(segment_by='industry_code',filtered_data=FTrial[FTrial['group']=='Control'])",
      "execution_count": null,
      "outputs": []
    },
    {
      "metadata": {
        "trusted": true
      },
      "cell_type": "code",
      "source": "# Test users\nconversion_rate_plots(segment_by='industry_code',filtered_data=FTrial[FTrial['group']=='Test'])",
      "execution_count": null,
      "outputs": []
    },
    {
      "metadata": {
        "trusted": true
      },
      "cell_type": "code",
      "source": "# All users\nconversion_rate_plots(segment_by='industry_code')",
      "execution_count": null,
      "outputs": []
    },
    {
      "metadata": {
        "trusted": true
      },
      "cell_type": "code",
      "source": "conversion_rate_plots(segment_by='age')",
      "execution_count": null,
      "outputs": []
    },
    {
      "metadata": {
        "trusted": false
      },
      "cell_type": "markdown",
      "source": "# Fix Imbalance data"
    },
    {
      "metadata": {
        "trusted": true
      },
      "cell_type": "code",
      "source": "# Split into training/test set\n\nfrom sklearn.model_selection import train_test_split\n\nX = FTrial[['user_id', 'date', 'source', 'device', 'payee', 'browser', 'sex', 'age',\n       'industry']]\ny = FTrial[['trial']]\nX_train, X_test, y_train, y_test = train_test_split(X, y, test_size=0.20, random_state=42)",
      "execution_count": 4,
      "outputs": []
    },
    {
      "metadata": {
        "trusted": true
      },
      "cell_type": "code",
      "source": "target_count = y_train.trial.value_counts()\ntarget_count",
      "execution_count": 10,
      "outputs": [
        {
          "output_type": "execute_result",
          "execution_count": 10,
          "data": {
            "text/plain": "0    137053\n1      8063\nName: trial, dtype: int64"
          },
          "metadata": {}
        }
      ]
    },
    {
      "metadata": {
        "trusted": true
      },
      "cell_type": "code",
      "source": "target_count.plot(kind='bar', title='Count (target)')",
      "execution_count": 11,
      "outputs": [
        {
          "output_type": "execute_result",
          "execution_count": 11,
          "data": {
            "text/plain": "<matplotlib.axes._subplots.AxesSubplot at 0x7f479fe7e550>"
          },
          "metadata": {}
        },
        {
          "output_type": "display_data",
          "data": {
            "image/png": "[encoded data removed]",
            "text/plain": "<matplotlib.figure.Figure at 0x7f479b95a470>"
          },
          "metadata": {}
        }
      ]
    },
    {
      "metadata": {
        "trusted": true
      },
      "cell_type": "code",
      "source": "!pip install xgboost",
      "execution_count": 13,
      "outputs": [
        {
          "output_type": "stream",
          "text": "Collecting xgboost\n\u001b[?25l  Downloading https://files.pythonhosted.org/packages/c1/24/5fe7237b2eca13ee0cfb100bec8c23f4e69ce9df852a64b0493d49dae4e0/xgboost-0.90-py2.py3-none-manylinux1_x86_64.whl (142.8MB)\n\u001b[K     |████████████████████████████████| 142.8MB 5.6kB/s eta 0:00:011  |██                              | 8.7MB 2.4MB/s eta 0:00:56                        | 10.6MB 2.4MB/s eta 0:00:55                         | 14.7MB 27.7MB/s eta 0:00:05                  | 36.6MB 45.4MB/s eta 0:00:03MB/s eta 0:00:13     |███████████████▏                | 67.8MB 6.8MB/s eta 0:00:12�███████████▋               | 74.0MB 9.4MB/s eta 0:00:08███████████████████████▏      | 112.4MB 30.1MB/s eta 0:00:02     |███████████████████████████▉    | 124.2MB 30.1MB/s eta 0:00:01     |█████████████████████████████▋  | 132.3MB 13.1MB/s eta 0:00:01\n\u001b[?25hRequirement already satisfied: scipy in /home/nbuser/anaconda3_420/lib/python3.5/site-packages (from xgboost) (1.1.0)\nRequirement already satisfied: numpy in /home/nbuser/anaconda3_420/lib/python3.5/site-packages (from xgboost) (1.17.0)\nInstalling collected packages: xgboost\nSuccessfully installed xgboost-0.90\n\u001b[33mWARNING: You are using pip version 19.2.2, however version 19.2.3 is available.\nYou should consider upgrading via the 'pip install --upgrade pip' command.\u001b[0m\n",
          "name": "stdout"
        }
      ]
    },
    {
      "metadata": {
        "trusted": true
      },
      "cell_type": "code",
      "source": "from xgboost import XGBClassifier\nfrom sklearn.metrics import accuracy_score\n\nmodel = XGBClassifier()\nmodel.fit(X_train, y_train)\ny_pred = model.predict(X_test)\n\naccuracy = accuracy_score(y_test, y_pred)\nprint(\"Accuracy: %.2f%%\" % (accuracy * 100.0))",
      "execution_count": 14,
      "outputs": [
        {
          "output_type": "stream",
          "text": "/home/nbuser/anaconda3_420/lib/python3.5/site-packages/sklearn/preprocessing/label.py:95: DataConversionWarning: A column-vector y was passed when a 1d array was expected. Please change the shape of y to (n_samples, ), for example using ravel().\n  y = column_or_1d(y, warn=True)\n/home/nbuser/anaconda3_420/lib/python3.5/site-packages/sklearn/preprocessing/label.py:128: DataConversionWarning: A column-vector y was passed when a 1d array was expected. Please change the shape of y to (n_samples, ), for example using ravel().\n  y = column_or_1d(y, warn=True)\n",
          "name": "stderr"
        },
        {
          "output_type": "stream",
          "text": "Accuracy: 94.67%\n",
          "name": "stdout"
        },
        {
          "output_type": "stream",
          "text": "/home/nbuser/anaconda3_420/lib/python3.5/site-packages/sklearn/preprocessing/label.py:151: DeprecationWarning: The truth value of an empty array is ambiguous. Returning False, but in future this will result in an error. Use `array.size > 0` to check that an array is not empty.\n  if diff:\n",
          "name": "stderr"
        }
      ]
    },
    {
      "metadata": {
        "trusted": true
      },
      "cell_type": "code",
      "source": "# with just 1 input feature - should reduce accuracy\n\nmodel = XGBClassifier()\nmodel.fit(X_train[['browser']], y_train)\ny_pred = model.predict(X_test[['browser']])\n\naccuracy = accuracy_score(y_test, y_pred)\nprint(\"Accuracy: %.2f%%\" % (accuracy * 100.0))",
      "execution_count": 15,
      "outputs": [
        {
          "output_type": "stream",
          "text": "/home/nbuser/anaconda3_420/lib/python3.5/site-packages/sklearn/preprocessing/label.py:95: DataConversionWarning: A column-vector y was passed when a 1d array was expected. Please change the shape of y to (n_samples, ), for example using ravel().\n  y = column_or_1d(y, warn=True)\n/home/nbuser/anaconda3_420/lib/python3.5/site-packages/sklearn/preprocessing/label.py:128: DataConversionWarning: A column-vector y was passed when a 1d array was expected. Please change the shape of y to (n_samples, ), for example using ravel().\n  y = column_or_1d(y, warn=True)\n",
          "name": "stderr"
        },
        {
          "output_type": "stream",
          "text": "Accuracy: 94.67%\n",
          "name": "stdout"
        },
        {
          "output_type": "stream",
          "text": "/home/nbuser/anaconda3_420/lib/python3.5/site-packages/sklearn/preprocessing/label.py:151: DeprecationWarning: The truth value of an empty array is ambiguous. Returning False, but in future this will result in an error. Use `array.size > 0` to check that an array is not empty.\n  if diff:\n",
          "name": "stderr"
        }
      ]
    },
    {
      "metadata": {
        "trusted": true
      },
      "cell_type": "code",
      "source": "from sklearn.metrics import confusion_matrix\n\nconf_mat = confusion_matrix(y_true=y_test, y_pred=y_pred)\nprint('Confusion matrix:\\n', conf_mat)",
      "execution_count": 16,
      "outputs": [
        {
          "output_type": "stream",
          "text": "Confusion matrix:\n [[34348     0]\n [ 1932     0]]\n",
          "name": "stdout"
        }
      ]
    },
    {
      "metadata": {
        "trusted": true
      },
      "cell_type": "code",
      "source": "# Class count\ncount_class_0, count_class_1 = y_train.trial.value_counts()\n\n# Divide by class\ndf_class_0 = y_train[y_train['trial'] == 0]\ndf_class_1 = y_train[y_train['trial'] == 1]",
      "execution_count": null,
      "outputs": []
    },
    {
      "metadata": {
        "trusted": true
      },
      "cell_type": "code",
      "source": "y_train.trial.value_counts()",
      "execution_count": null,
      "outputs": []
    },
    {
      "metadata": {},
      "cell_type": "markdown",
      "source": "# Random under-sampling"
    },
    {
      "metadata": {
        "trusted": true
      },
      "cell_type": "code",
      "source": "df_class_0_under = df_class_0.sample(count_class_1)\ndf_test_under = pd.concat([df_class_0_under, df_class_1], axis=0)\n\nprint('Random under-sampling:')\nprint(df_test_under.trial.value_counts())\n\ndf_test_under.trial.value_counts().plot(kind='bar', title='Count (trial)')",
      "execution_count": null,
      "outputs": []
    },
    {
      "metadata": {
        "trusted": true
      },
      "cell_type": "code",
      "source": "df_test_under.tail()",
      "execution_count": null,
      "outputs": []
    },
    {
      "metadata": {},
      "cell_type": "markdown",
      "source": "# Python imbalanced-learn module"
    },
    {
      "metadata": {
        "trusted": true
      },
      "cell_type": "code",
      "source": "!pip install imblearn",
      "execution_count": 18,
      "outputs": [
        {
          "output_type": "stream",
          "text": "Collecting imblearn\n  Downloading https://files.pythonhosted.org/packages/81/a7/4179e6ebfd654bd0eac0b9c06125b8b4c96a9d0a8ff9e9507eb2a26d2d7e/imblearn-0.0-py2.py3-none-any.whl\nCollecting imbalanced-learn (from imblearn)\n\u001b[?25l  Downloading https://files.pythonhosted.org/packages/e6/62/08c14224a7e242df2cef7b312d2ef821c3931ec9b015ff93bb52ec8a10a3/imbalanced_learn-0.5.0-py3-none-any.whl (173kB)\n\u001b[K     |████████████████████████████████| 174kB 3.6MB/s eta 0:00:01\n\u001b[?25hCollecting joblib>=0.11 (from imbalanced-learn->imblearn)\n\u001b[?25l  Downloading https://files.pythonhosted.org/packages/8f/42/155696f85f344c066e17af287359c9786b436b1bf86029bb3411283274f3/joblib-0.14.0-py2.py3-none-any.whl (294kB)\n\u001b[K     |████████████████████████████████| 296kB 8.2MB/s eta 0:00:01     |██████▊                         | 61kB 20.0MB/s eta 0:00:01\n\u001b[?25hCollecting scikit-learn>=0.21 (from imbalanced-learn->imblearn)\n\u001b[?25l  Downloading https://files.pythonhosted.org/packages/1f/af/e3c3cd6f61093830059138624dbd26d938d6da1caeec5aeabe772b916069/scikit_learn-0.21.3-cp35-cp35m-manylinux1_x86_64.whl (6.6MB)\n\u001b[K     |████████████████████████████████| 6.6MB 7.7MB/s eta 0:00:01\n\u001b[?25hRequirement already satisfied: scipy>=0.17 in /home/nbuser/anaconda3_420/lib/python3.5/site-packages (from imbalanced-learn->imblearn) (1.1.0)\nRequirement already satisfied: numpy>=1.11 in /home/nbuser/anaconda3_420/lib/python3.5/site-packages (from imbalanced-learn->imblearn) (1.17.0)\nInstalling collected packages: joblib, scikit-learn, imbalanced-learn, imblearn\n  Found existing installation: scikit-learn 0.19.1\n    Uninstalling scikit-learn-0.19.1:\n      Successfully uninstalled scikit-learn-0.19.1\nSuccessfully installed imbalanced-learn-0.5.0 imblearn-0.0 joblib-0.14.0 scikit-learn-0.21.3\n\u001b[33mWARNING: You are using pip version 19.2.2, however version 19.2.3 is available.\nYou should consider upgrading via the 'pip install --upgrade pip' command.\u001b[0m\n",
          "name": "stdout"
        }
      ]
    },
    {
      "metadata": {},
      "cell_type": "markdown",
      "source": "# Random under-sampling and over-sampling with imbalanced-learn"
    },
    {
      "metadata": {
        "trusted": true
      },
      "cell_type": "code",
      "source": "from imblearn.under_sampling import RandomUnderSampler\n\nrus = RandomUnderSampler(return_indices=True)\nX_rus, y_rus, _ = rus.fit_sample(X, y)",
      "execution_count": 19,
      "outputs": [
        {
          "output_type": "error",
          "ename": "ImportError",
          "evalue": "cannot import name 'MultiOutputMixin'",
          "traceback": [
            "\u001b[0;31m---------------------------------------------------------------------------\u001b[0m",
            "\u001b[0;31mImportError\u001b[0m                               Traceback (most recent call last)",
            "\u001b[0;32m<ipython-input-19-8fcd4e92a838>\u001b[0m in \u001b[0;36m<module>\u001b[0;34m()\u001b[0m\n\u001b[0;32m----> 1\u001b[0;31m \u001b[0;32mfrom\u001b[0m \u001b[0mimblearn\u001b[0m\u001b[0;34m.\u001b[0m\u001b[0munder_sampling\u001b[0m \u001b[0;32mimport\u001b[0m \u001b[0mRandomUnderSampler\u001b[0m\u001b[0;34m\u001b[0m\u001b[0m\n\u001b[0m\u001b[1;32m      2\u001b[0m \u001b[0;34m\u001b[0m\u001b[0m\n\u001b[1;32m      3\u001b[0m \u001b[0mrus\u001b[0m \u001b[0;34m=\u001b[0m \u001b[0mRandomUnderSampler\u001b[0m\u001b[0;34m(\u001b[0m\u001b[0mreturn_indices\u001b[0m\u001b[0;34m=\u001b[0m\u001b[0;32mTrue\u001b[0m\u001b[0;34m)\u001b[0m\u001b[0;34m\u001b[0m\u001b[0m\n\u001b[1;32m      4\u001b[0m \u001b[0mX_rus\u001b[0m\u001b[0;34m,\u001b[0m \u001b[0my_rus\u001b[0m\u001b[0;34m,\u001b[0m \u001b[0m_\u001b[0m \u001b[0;34m=\u001b[0m \u001b[0mrus\u001b[0m\u001b[0;34m.\u001b[0m\u001b[0mfit_sample\u001b[0m\u001b[0;34m(\u001b[0m\u001b[0mX\u001b[0m\u001b[0;34m,\u001b[0m \u001b[0my\u001b[0m\u001b[0;34m)\u001b[0m\u001b[0;34m\u001b[0m\u001b[0m\n",
            "\u001b[0;32m~/anaconda3_420/lib/python3.5/site-packages/imblearn/__init__.py\u001b[0m in \u001b[0;36m<module>\u001b[0;34m()\u001b[0m\n\u001b[1;32m     32\u001b[0m     \u001b[0mModule\u001b[0m \u001b[0mwhich\u001b[0m \u001b[0mallowing\u001b[0m \u001b[0mto\u001b[0m \u001b[0mcreate\u001b[0m \u001b[0mpipeline\u001b[0m \u001b[0;32mwith\u001b[0m \u001b[0mscikit\u001b[0m\u001b[0;34m-\u001b[0m\u001b[0mlearn\u001b[0m \u001b[0mestimators\u001b[0m\u001b[0;34m.\u001b[0m\u001b[0;34m\u001b[0m\u001b[0m\n\u001b[1;32m     33\u001b[0m \"\"\"\n\u001b[0;32m---> 34\u001b[0;31m \u001b[0;32mfrom\u001b[0m \u001b[0;34m.\u001b[0m \u001b[0;32mimport\u001b[0m \u001b[0mcombine\u001b[0m\u001b[0;34m\u001b[0m\u001b[0m\n\u001b[0m\u001b[1;32m     35\u001b[0m \u001b[0;32mfrom\u001b[0m \u001b[0;34m.\u001b[0m \u001b[0;32mimport\u001b[0m \u001b[0mensemble\u001b[0m\u001b[0;34m\u001b[0m\u001b[0m\n\u001b[1;32m     36\u001b[0m \u001b[0;32mfrom\u001b[0m \u001b[0;34m.\u001b[0m \u001b[0;32mimport\u001b[0m \u001b[0mexceptions\u001b[0m\u001b[0;34m\u001b[0m\u001b[0m\n",
            "\u001b[0;32m~/anaconda3_420/lib/python3.5/site-packages/imblearn/combine/__init__.py\u001b[0m in \u001b[0;36m<module>\u001b[0;34m()\u001b[0m\n\u001b[1;32m      3\u001b[0m \"\"\"\n\u001b[1;32m      4\u001b[0m \u001b[0;34m\u001b[0m\u001b[0m\n\u001b[0;32m----> 5\u001b[0;31m \u001b[0;32mfrom\u001b[0m \u001b[0;34m.\u001b[0m\u001b[0m_smote_enn\u001b[0m \u001b[0;32mimport\u001b[0m \u001b[0mSMOTEENN\u001b[0m\u001b[0;34m\u001b[0m\u001b[0m\n\u001b[0m\u001b[1;32m      6\u001b[0m \u001b[0;32mfrom\u001b[0m \u001b[0;34m.\u001b[0m\u001b[0m_smote_tomek\u001b[0m \u001b[0;32mimport\u001b[0m \u001b[0mSMOTETomek\u001b[0m\u001b[0;34m\u001b[0m\u001b[0m\n\u001b[1;32m      7\u001b[0m \u001b[0;34m\u001b[0m\u001b[0m\n",
            "\u001b[0;32m~/anaconda3_420/lib/python3.5/site-packages/imblearn/combine/_smote_enn.py\u001b[0m in \u001b[0;36m<module>\u001b[0;34m()\u001b[0m\n\u001b[1;32m      8\u001b[0m \u001b[0;32mfrom\u001b[0m \u001b[0msklearn\u001b[0m\u001b[0;34m.\u001b[0m\u001b[0mutils\u001b[0m \u001b[0;32mimport\u001b[0m \u001b[0mcheck_X_y\u001b[0m\u001b[0;34m\u001b[0m\u001b[0m\n\u001b[1;32m      9\u001b[0m \u001b[0;34m\u001b[0m\u001b[0m\n\u001b[0;32m---> 10\u001b[0;31m \u001b[0;32mfrom\u001b[0m \u001b[0;34m.\u001b[0m\u001b[0;34m.\u001b[0m\u001b[0mbase\u001b[0m \u001b[0;32mimport\u001b[0m \u001b[0mBaseSampler\u001b[0m\u001b[0;34m\u001b[0m\u001b[0m\n\u001b[0m\u001b[1;32m     11\u001b[0m \u001b[0;32mfrom\u001b[0m \u001b[0;34m.\u001b[0m\u001b[0;34m.\u001b[0m\u001b[0mover_sampling\u001b[0m \u001b[0;32mimport\u001b[0m \u001b[0mSMOTE\u001b[0m\u001b[0;34m\u001b[0m\u001b[0m\n\u001b[1;32m     12\u001b[0m \u001b[0;32mfrom\u001b[0m \u001b[0;34m.\u001b[0m\u001b[0;34m.\u001b[0m\u001b[0mover_sampling\u001b[0m\u001b[0;34m.\u001b[0m\u001b[0mbase\u001b[0m \u001b[0;32mimport\u001b[0m \u001b[0mBaseOverSampler\u001b[0m\u001b[0;34m\u001b[0m\u001b[0m\n",
            "\u001b[0;32m~/anaconda3_420/lib/python3.5/site-packages/imblearn/base.py\u001b[0m in \u001b[0;36m<module>\u001b[0;34m()\u001b[0m\n\u001b[1;32m     15\u001b[0m \u001b[0;32mfrom\u001b[0m \u001b[0msklearn\u001b[0m\u001b[0;34m.\u001b[0m\u001b[0mutils\u001b[0m\u001b[0;34m.\u001b[0m\u001b[0mmulticlass\u001b[0m \u001b[0;32mimport\u001b[0m \u001b[0mcheck_classification_targets\u001b[0m\u001b[0;34m\u001b[0m\u001b[0m\n\u001b[1;32m     16\u001b[0m \u001b[0;34m\u001b[0m\u001b[0m\n\u001b[0;32m---> 17\u001b[0;31m \u001b[0;32mfrom\u001b[0m \u001b[0;34m.\u001b[0m\u001b[0mutils\u001b[0m \u001b[0;32mimport\u001b[0m \u001b[0mcheck_sampling_strategy\u001b[0m\u001b[0;34m,\u001b[0m \u001b[0mcheck_target_type\u001b[0m\u001b[0;34m\u001b[0m\u001b[0m\n\u001b[0m\u001b[1;32m     18\u001b[0m \u001b[0;32mfrom\u001b[0m \u001b[0;34m.\u001b[0m\u001b[0mutils\u001b[0m\u001b[0;34m.\u001b[0m\u001b[0mdeprecation\u001b[0m \u001b[0;32mimport\u001b[0m \u001b[0mdeprecate_parameter\u001b[0m\u001b[0;34m\u001b[0m\u001b[0m\n\u001b[1;32m     19\u001b[0m \u001b[0;34m\u001b[0m\u001b[0m\n",
            "\u001b[0;32m~/anaconda3_420/lib/python3.5/site-packages/imblearn/utils/__init__.py\u001b[0m in \u001b[0;36m<module>\u001b[0;34m()\u001b[0m\n\u001b[1;32m      5\u001b[0m \u001b[0;32mfrom\u001b[0m \u001b[0;34m.\u001b[0m\u001b[0m_docstring\u001b[0m \u001b[0;32mimport\u001b[0m \u001b[0mSubstitution\u001b[0m\u001b[0;34m\u001b[0m\u001b[0m\n\u001b[1;32m      6\u001b[0m \u001b[0;34m\u001b[0m\u001b[0m\n\u001b[0;32m----> 7\u001b[0;31m \u001b[0;32mfrom\u001b[0m \u001b[0;34m.\u001b[0m\u001b[0m_validation\u001b[0m \u001b[0;32mimport\u001b[0m \u001b[0mcheck_neighbors_object\u001b[0m\u001b[0;34m\u001b[0m\u001b[0m\n\u001b[0m\u001b[1;32m      8\u001b[0m \u001b[0;32mfrom\u001b[0m \u001b[0;34m.\u001b[0m\u001b[0m_validation\u001b[0m \u001b[0;32mimport\u001b[0m \u001b[0mcheck_target_type\u001b[0m\u001b[0;34m\u001b[0m\u001b[0m\n\u001b[1;32m      9\u001b[0m \u001b[0;32mfrom\u001b[0m \u001b[0;34m.\u001b[0m\u001b[0m_validation\u001b[0m \u001b[0;32mimport\u001b[0m \u001b[0mcheck_ratio\u001b[0m\u001b[0;34m\u001b[0m\u001b[0m\n",
            "\u001b[0;32m~/anaconda3_420/lib/python3.5/site-packages/imblearn/utils/_validation.py\u001b[0m in \u001b[0;36m<module>\u001b[0;34m()\u001b[0m\n\u001b[1;32m     11\u001b[0m \u001b[0;34m\u001b[0m\u001b[0m\n\u001b[1;32m     12\u001b[0m \u001b[0;32mfrom\u001b[0m \u001b[0msklearn\u001b[0m\u001b[0;34m.\u001b[0m\u001b[0mbase\u001b[0m \u001b[0;32mimport\u001b[0m \u001b[0mclone\u001b[0m\u001b[0;34m\u001b[0m\u001b[0m\n\u001b[0;32m---> 13\u001b[0;31m \u001b[0;32mfrom\u001b[0m \u001b[0msklearn\u001b[0m\u001b[0;34m.\u001b[0m\u001b[0mneighbors\u001b[0m\u001b[0;34m.\u001b[0m\u001b[0mbase\u001b[0m \u001b[0;32mimport\u001b[0m \u001b[0mKNeighborsMixin\u001b[0m\u001b[0;34m\u001b[0m\u001b[0m\n\u001b[0m\u001b[1;32m     14\u001b[0m \u001b[0;32mfrom\u001b[0m \u001b[0msklearn\u001b[0m\u001b[0;34m.\u001b[0m\u001b[0mneighbors\u001b[0m \u001b[0;32mimport\u001b[0m \u001b[0mNearestNeighbors\u001b[0m\u001b[0;34m\u001b[0m\u001b[0m\n\u001b[1;32m     15\u001b[0m \u001b[0;32mfrom\u001b[0m \u001b[0msklearn\u001b[0m\u001b[0;34m.\u001b[0m\u001b[0mutils\u001b[0m\u001b[0;34m.\u001b[0m\u001b[0mmulticlass\u001b[0m \u001b[0;32mimport\u001b[0m \u001b[0mtype_of_target\u001b[0m\u001b[0;34m\u001b[0m\u001b[0m\n",
            "\u001b[0;32m~/anaconda3_420/lib/python3.5/site-packages/sklearn/neighbors/__init__.py\u001b[0m in \u001b[0;36m<module>\u001b[0;34m()\u001b[0m\n\u001b[1;32m      7\u001b[0m \u001b[0;32mfrom\u001b[0m \u001b[0;34m.\u001b[0m\u001b[0mkd_tree\u001b[0m \u001b[0;32mimport\u001b[0m \u001b[0mKDTree\u001b[0m\u001b[0;34m\u001b[0m\u001b[0m\n\u001b[1;32m      8\u001b[0m \u001b[0;32mfrom\u001b[0m \u001b[0;34m.\u001b[0m\u001b[0mdist_metrics\u001b[0m \u001b[0;32mimport\u001b[0m \u001b[0mDistanceMetric\u001b[0m\u001b[0;34m\u001b[0m\u001b[0m\n\u001b[0;32m----> 9\u001b[0;31m \u001b[0;32mfrom\u001b[0m \u001b[0;34m.\u001b[0m\u001b[0mgraph\u001b[0m \u001b[0;32mimport\u001b[0m \u001b[0mkneighbors_graph\u001b[0m\u001b[0;34m,\u001b[0m \u001b[0mradius_neighbors_graph\u001b[0m\u001b[0;34m\u001b[0m\u001b[0m\n\u001b[0m\u001b[1;32m     10\u001b[0m \u001b[0;32mfrom\u001b[0m \u001b[0;34m.\u001b[0m\u001b[0munsupervised\u001b[0m \u001b[0;32mimport\u001b[0m \u001b[0mNearestNeighbors\u001b[0m\u001b[0;34m\u001b[0m\u001b[0m\n\u001b[1;32m     11\u001b[0m \u001b[0;32mfrom\u001b[0m \u001b[0;34m.\u001b[0m\u001b[0mclassification\u001b[0m \u001b[0;32mimport\u001b[0m \u001b[0mKNeighborsClassifier\u001b[0m\u001b[0;34m,\u001b[0m \u001b[0mRadiusNeighborsClassifier\u001b[0m\u001b[0;34m\u001b[0m\u001b[0m\n",
            "\u001b[0;32m~/anaconda3_420/lib/python3.5/site-packages/sklearn/neighbors/graph.py\u001b[0m in \u001b[0;36m<module>\u001b[0;34m()\u001b[0m\n\u001b[1;32m      5\u001b[0m \u001b[0;31m# License: BSD 3 clause (C) INRIA, University of Amsterdam\u001b[0m\u001b[0;34m\u001b[0m\u001b[0;34m\u001b[0m\u001b[0m\n\u001b[1;32m      6\u001b[0m \u001b[0;34m\u001b[0m\u001b[0m\n\u001b[0;32m----> 7\u001b[0;31m \u001b[0;32mfrom\u001b[0m \u001b[0;34m.\u001b[0m\u001b[0mbase\u001b[0m \u001b[0;32mimport\u001b[0m \u001b[0mKNeighborsMixin\u001b[0m\u001b[0;34m,\u001b[0m \u001b[0mRadiusNeighborsMixin\u001b[0m\u001b[0;34m\u001b[0m\u001b[0m\n\u001b[0m\u001b[1;32m      8\u001b[0m \u001b[0;32mfrom\u001b[0m \u001b[0;34m.\u001b[0m\u001b[0munsupervised\u001b[0m \u001b[0;32mimport\u001b[0m \u001b[0mNearestNeighbors\u001b[0m\u001b[0;34m\u001b[0m\u001b[0m\n\u001b[1;32m      9\u001b[0m \u001b[0;34m\u001b[0m\u001b[0m\n",
            "\u001b[0;32m~/anaconda3_420/lib/python3.5/site-packages/sklearn/neighbors/base.py\u001b[0m in \u001b[0;36m<module>\u001b[0;34m()\u001b[0m\n\u001b[1;32m     18\u001b[0m \u001b[0;32mfrom\u001b[0m \u001b[0;34m.\u001b[0m\u001b[0mball_tree\u001b[0m \u001b[0;32mimport\u001b[0m \u001b[0mBallTree\u001b[0m\u001b[0;34m\u001b[0m\u001b[0m\n\u001b[1;32m     19\u001b[0m \u001b[0;32mfrom\u001b[0m \u001b[0;34m.\u001b[0m\u001b[0mkd_tree\u001b[0m \u001b[0;32mimport\u001b[0m \u001b[0mKDTree\u001b[0m\u001b[0;34m\u001b[0m\u001b[0m\n\u001b[0;32m---> 20\u001b[0;31m \u001b[0;32mfrom\u001b[0m \u001b[0;34m.\u001b[0m\u001b[0;34m.\u001b[0m\u001b[0mbase\u001b[0m \u001b[0;32mimport\u001b[0m \u001b[0mBaseEstimator\u001b[0m\u001b[0;34m,\u001b[0m \u001b[0mMultiOutputMixin\u001b[0m\u001b[0;34m\u001b[0m\u001b[0m\n\u001b[0m\u001b[1;32m     21\u001b[0m \u001b[0;32mfrom\u001b[0m \u001b[0;34m.\u001b[0m\u001b[0;34m.\u001b[0m\u001b[0mmetrics\u001b[0m \u001b[0;32mimport\u001b[0m \u001b[0mpairwise_distances_chunked\u001b[0m\u001b[0;34m\u001b[0m\u001b[0m\n\u001b[1;32m     22\u001b[0m \u001b[0;32mfrom\u001b[0m \u001b[0;34m.\u001b[0m\u001b[0;34m.\u001b[0m\u001b[0mmetrics\u001b[0m\u001b[0;34m.\u001b[0m\u001b[0mpairwise\u001b[0m \u001b[0;32mimport\u001b[0m \u001b[0mPAIRWISE_DISTANCE_FUNCTIONS\u001b[0m\u001b[0;34m\u001b[0m\u001b[0m\n",
            "\u001b[0;31mImportError\u001b[0m: cannot import name 'MultiOutputMixin'"
          ]
        }
      ]
    },
    {
      "metadata": {},
      "cell_type": "markdown",
      "source": "# Other methods to handle imbalance data as per: https://elitedatascience.com/imbalanced-classes"
    },
    {
      "metadata": {},
      "cell_type": "markdown",
      "source": "# 1. Up-sample Minority Class"
    },
    {
      "metadata": {},
      "cell_type": "markdown",
      "source": "First, we'll import the resampling module from Scikit-Learn\n\nNext, we'll create a new DataFrame with an up-sampled minority class. Here are the steps:\n\n1) First, we'll separate observations from each class into different DataFrames.\n2) Next, we'll resample the minority class with replacement, setting the number of samples to match that of the majority class.\n3) Finally, we'll combine the up-sampled minority class DataFrame with the original majority class DataFrame.\n\nHere's the code:"
    },
    {
      "metadata": {
        "trusted": true
      },
      "cell_type": "code",
      "source": "training_set = pd.concat([X_train, y_train], axis=1)",
      "execution_count": 8,
      "outputs": []
    },
    {
      "metadata": {
        "trusted": true
      },
      "cell_type": "code",
      "source": "training_set.shape",
      "execution_count": 9,
      "outputs": [
        {
          "output_type": "execute_result",
          "execution_count": 9,
          "data": {
            "text/plain": "(145116, 10)"
          },
          "metadata": {}
        }
      ]
    },
    {
      "metadata": {
        "trusted": true
      },
      "cell_type": "code",
      "source": "from sklearn.utils import resample\n\n# Separate majority and minority classes\ndf_majority = training_set[training_set.trial==0]\ndf_minority = training_set[training_set.trial==1]\n \n# Upsample minority class\ndf_minority_upsampled = resample(df_minority, \n                                 replace=True,     # sample with replacement\n                                 n_samples=137053,    # to match majority class\n                                 random_state=123) # reproducible results\n \n# Combine majority class with upsampled minority class\ndf_upsampled = pd.concat([df_majority, df_minority_upsampled])\n \n# Display new class counts\ndf_upsampled.trial.value_counts()",
      "execution_count": 10,
      "outputs": [
        {
          "output_type": "execute_result",
          "execution_count": 10,
          "data": {
            "text/plain": "1    137053\n0    137053\nName: trial, dtype: int64"
          },
          "metadata": {}
        }
      ]
    },
    {
      "metadata": {
        "trusted": true
      },
      "cell_type": "code",
      "source": "df_upsampled.shape",
      "execution_count": 11,
      "outputs": [
        {
          "output_type": "execute_result",
          "execution_count": 11,
          "data": {
            "text/plain": "(274106, 10)"
          },
          "metadata": {}
        }
      ]
    },
    {
      "metadata": {},
      "cell_type": "markdown",
      "source": "As you can see, the new DataFrame has more observations than the original, and the ratio of the two classes is now 1:1.\n\nLet's train another model using Logistic Regression, this time on the balanced dataset:"
    },
    {
      "metadata": {
        "trusted": true
      },
      "cell_type": "code",
      "source": "from sklearn.linear_model import LogisticRegression\nfrom sklearn.metrics import accuracy_score\n\n# Separate input features (X) and target variable (y)\ny = df_upsampled.trial\nX = df_upsampled.drop('trial', axis=1)\n \n# Train model\nclf_1 = LogisticRegression().fit(X, y)\n \n# Predict on test set\npred_y_1 = clf_1.predict(X_test)\n \n# Is our model still predicting just one class?\nprint( np.unique( pred_y_1 ) )\n# [0 1]\n \n# How's our accuracy?\nprint( accuracy_score(y_test, pred_y_1) )",
      "execution_count": 12,
      "outputs": [
        {
          "output_type": "stream",
          "text": "[0]\n0.9467475192943771\n",
          "name": "stdout"
        }
      ]
    },
    {
      "metadata": {
        "trusted": true
      },
      "cell_type": "markdown",
      "source": "# 2. Down-sample Majority Class"
    },
    {
      "metadata": {},
      "cell_type": "markdown",
      "source": "Down-sampling involves randomly removing observations from the majority class to prevent its signal from dominating the learning algorithm.\n\nThe most common heuristic for doing so is resampling without replacement.\n\nThe process is similar to that of up-sampling. Here are the steps:\n\n1) First, we'll separate observations from each class into different DataFrames.\n\n2) Next, we'll resample the majority class without replacement, setting the number of samples to match that of the minority class.\n\n3) Finally, we'll combine the down-sampled majority class DataFrame with the original minority class DataFrame.\n\nHere's the code:"
    },
    {
      "metadata": {
        "trusted": true
      },
      "cell_type": "code",
      "source": "# Separate majority and minority classes\ndf_majority = training_set[training_set.trial==0]\ndf_minority = training_set[training_set.trial==1]\n \n# Downsample majority class\ndf_majority_downsampled = resample(df_majority, \n                                 replace=False,    # sample without replacement\n                                 n_samples=8063,     # to match minority class\n                                 random_state=123) # reproducible results\n \n# Combine minority class with downsampled majority class\ndf_downsampled = pd.concat([df_majority_downsampled, df_minority])\n \n# Display new class counts\ndf_downsampled.trial.value_counts()",
      "execution_count": 13,
      "outputs": [
        {
          "output_type": "execute_result",
          "execution_count": 13,
          "data": {
            "text/plain": "1    8063\n0    8063\nName: trial, dtype: int64"
          },
          "metadata": {}
        }
      ]
    },
    {
      "metadata": {},
      "cell_type": "markdown",
      "source": "This time, the new DataFrame has fewer observations than the original, and the ratio of the two classes is now 1:1.\n\nAgain, let's train a model using Logistic Regression:"
    },
    {
      "metadata": {
        "trusted": true
      },
      "cell_type": "code",
      "source": "# Separate input features (X) and target variable (y)\ny = df_downsampled.trial\nX = df_downsampled.drop('trial', axis=1)\n \n# Train model\nclf_2 = LogisticRegression().fit(X, y)\n \n# Predict on test set\npred_y_2 = clf_2.predict(X_test)\n \n# Is our model still predicting just one class?\nprint( np.unique( pred_y_2 ) )\n# [0 1]\n \n# How's our accuracy?\nprint( accuracy_score(y_test, pred_y_2) )",
      "execution_count": 14,
      "outputs": [
        {
          "output_type": "stream",
          "text": "[0]\n0.9467475192943771\n",
          "name": "stdout"
        }
      ]
    },
    {
      "metadata": {},
      "cell_type": "markdown",
      "source": "# 3. Change Your Performance Metric"
    },
    {
      "metadata": {
        "trusted": true
      },
      "cell_type": "code",
      "source": "from sklearn.metrics import roc_auc_score\n\n# down sampled model\nprob_y_2 = clf_2.predict_proba(X)   # Predict class probabilities\nprob_y_2 = [p[1] for p in prob_y_2]  # Keep only the positive class\nprint( roc_auc_score(y, prob_y_2) )\n\n# up sampled model\nprob_y_1 = clf_1.predict_proba(X)   # Predict class probabilities\nprob_y_1 = [p[1] for p in prob_y_1]  # Keep only the positive class\nprint( roc_auc_score(y, prob_y_1) )",
      "execution_count": 15,
      "outputs": [
        {
          "output_type": "stream",
          "text": "0.5007215978953045\n0.5007215978953045\n",
          "name": "stdout"
        }
      ]
    },
    {
      "metadata": {},
      "cell_type": "markdown",
      "source": "Note: if you got an AUROC of 0.47, it just means you need to invert the predictions because Scikit-Learn is misinterpreting the positive class. AUROC should be >= 0.5"
    },
    {
      "metadata": {},
      "cell_type": "markdown",
      "source": "# 4. Penalize Algorithms (Cost-Sensitive Training)"
    },
    {
      "metadata": {},
      "cell_type": "markdown",
      "source": "The next tactic is to use penalized learning algorithms that increase the cost of classification mistakes on the minority class.\n\nA popular algorithm for this technique is Penalized-SVM. Let's train a model using Penalized-SVM on the original imbalanced dataset:"
    },
    {
      "metadata": {
        "trusted": true
      },
      "cell_type": "code",
      "source": "from sklearn.svm import SVC\n\n# Train model\nclf_3 = SVC(kernel='rbf', \n            class_weight='balanced', # penalize mistakes on the minority class by an amount proportional to how under-represented it\n            probability=True)  # enable probability estimates for SVM algorithms\n \nclf_3.fit(X_train, y_train)\n \n# Predict on test set\npred_y_3 = clf_3.predict(X_test)\n \n# Is our model still predicting just one class?\nprint( np.unique( pred_y_3 ) )\n# [0 1]\n \n# How's our accuracy?\nprint( accuracy_score(y_test, pred_y_3) )\n# 0.688\n \n# What about AUROC?\nprob_y_3 = clf_3.predict_proba(X_train)\nprob_y_3 = [p[1] for p in prob_y_3]\nprint( roc_auc_score(y_train, prob_y_3) )",
      "execution_count": null,
      "outputs": [
        {
          "output_type": "stream",
          "text": "/home/nbuser/anaconda3_420/lib/python3.5/site-packages/sklearn/utils/validation.py:578: DataConversionWarning: A column-vector y was passed when a 1d array was expected. Please change the shape of y to (n_samples, ), for example using ravel().\n  y = column_or_1d(y, warn=True)\n",
          "name": "stderr"
        }
      ]
    },
    {
      "metadata": {
        "trusted": true
      },
      "cell_type": "markdown",
      "source": "# 5. Use Tree-Based Algorithms"
    },
    {
      "metadata": {},
      "cell_type": "markdown",
      "source": "In modern applied machine learning, tree ensembles (Random Forests, Gradient Boosted Trees, etc.) almost always outperform singular decision trees, so we'll jump right into those:"
    },
    {
      "metadata": {
        "trusted": true
      },
      "cell_type": "code",
      "source": "from sklearn.ensemble import RandomForestClassifier\nfrom sklearn.metrics import roc_auc_score, accuracy_score\n\n# Train model\nclf_4 = RandomForestClassifier(n_estimators=100, random_state=1)\nclf_4.fit(X_train, y_train)\n \n# Predict on test set\npred_y_4 = clf_4.predict(X_test)\n \n# Is our model still predicting just one class?\nprint( np.unique( pred_y_4 ) )\n# [0 1]\n \n# How's our accuracy?\nprint( accuracy_score(y_test, pred_y_4) )\n# 0.9744\n \n# What about AUROC?\nprob_y_4 = clf_4.predict_proba(X)\nprob_y_4 = [p[1] for p in prob_y_4]\nprint( roc_auc_score(y, prob_y_4) )\n\nconf_mat = confusion_matrix(y_true=y_test, y_pred=pred_y_4)\nprint('Confusion matrix:\\n', conf_mat)",
      "execution_count": 15,
      "outputs": [
        {
          "output_type": "stream",
          "text": "/home/nbuser/anaconda3_420/lib/python3.5/site-packages/ipykernel/__main__.py:6: DataConversionWarning: A column-vector y was passed when a 1d array was expected. Please change the shape of y to (n_samples,), for example using ravel().\n",
          "name": "stderr"
        },
        {
          "output_type": "stream",
          "text": "[0 1]\n0.9114939360529217\n0.9131996173523311\nConfusion matrix:\n [[32994  1354]\n [ 1857    75]]\n",
          "name": "stdout"
        }
      ]
    },
    {
      "metadata": {},
      "cell_type": "markdown",
      "source": "Wow! 92% accuracy and 90% AUROC\n\nNo wonder, tree ensembles have become very popular because they perform extremely well on many real-world problems"
    },
    {
      "metadata": {
        "trusted": true
      },
      "cell_type": "code",
      "source": "from sklearn.metrics import confusion_matrix\n\nconf_mat = confusion_matrix(y_true=y_test, y_pred=pred_y_4)\n\nprint('Confusion matrix:\\n', conf_mat)",
      "execution_count": 6,
      "outputs": [
        {
          "output_type": "stream",
          "text": "Confusion matrix:\n [[33345  1003]\n [ 1868    64]]\n",
          "name": "stdout"
        }
      ]
    },
    {
      "metadata": {
        "trusted": true
      },
      "cell_type": "code",
      "source": "# AdaBoost\nfrom sklearn.ensemble import AdaBoostClassifier\n\n# Train model\nclf_5 = AdaBoostClassifier()\nclf_5.fit(X_train, y_train)\n \n# Predict on test set\npred_y_5 = clf_5.predict(X_test)\n \n# Is our model still predicting just one class?\nprint( np.unique( pred_y_5 ) )\n# [0 1]\n \n# How's our accuracy?\nprint( accuracy_score(y_test, pred_y_5) )\n# 0.9744\n \n# What about AUROC?\nprob_y_5 = clf_5.predict_proba(X)\nprob_y_5 = [p[1] for p in prob_y_5]\nprint( roc_auc_score(y, prob_y_5) )\n\n# Confusion Matrix\nconf_mat = confusion_matrix(y_true=y_test, y_pred=pred_y_5)\nprint('Confusion matrix:\\n', conf_mat)",
      "execution_count": 7,
      "outputs": [
        {
          "output_type": "stream",
          "text": "/home/nbuser/anaconda3_420/lib/python3.5/site-packages/sklearn/utils/validation.py:578: DataConversionWarning: A column-vector y was passed when a 1d array was expected. Please change the shape of y to (n_samples, ), for example using ravel().\n  y = column_or_1d(y, warn=True)\n",
          "name": "stderr"
        },
        {
          "output_type": "stream",
          "text": "[0 1]\n0.9467199558985667\n0.5227033674829491\nConfusion matrix:\n [[34347     1]\n [ 1932     0]]\n",
          "name": "stdout"
        }
      ]
    },
    {
      "metadata": {
        "trusted": true
      },
      "cell_type": "code",
      "source": "# GradientBoost\nfrom sklearn.ensemble import GradientBoostingClassifier\n\n# Train model\nclf_6 = GradientBoostingClassifier(learning_rate=1.0, max_depth=1, random_state=0)\nclf_6.fit(X_train, y_train)\n \n# Predict on test set\npred_y_6 = clf_6.predict(X_test)\n \n# Is our model still predicting just one class?\nprint( np.unique( pred_y_6 ) )\n# [0 1]\n \n# How's our accuracy?\nprint( accuracy_score(y_test, pred_y_6) )\n# 0.9744\n \n# What about AUROC?\nprob_y_6 = clf_6.predict_proba(X)\nprob_y_6 = [p[1] for p in prob_y_6]\nprint( roc_auc_score(y, prob_y_6) )\n\n# Confusion Matrix\nconf_mat = confusion_matrix(y_true=y_test, y_pred=pred_y_6)\nprint('Confusion matrix:\\n', conf_mat)",
      "execution_count": 8,
      "outputs": [
        {
          "output_type": "stream",
          "text": "/home/nbuser/anaconda3_420/lib/python3.5/site-packages/sklearn/utils/validation.py:578: DataConversionWarning: A column-vector y was passed when a 1d array was expected. Please change the shape of y to (n_samples, ), for example using ravel().\n  y = column_or_1d(y, warn=True)\n",
          "name": "stderr"
        },
        {
          "output_type": "stream",
          "text": "[0 1]\n0.9467199558985667\n0.5293029887853069\nConfusion matrix:\n [[34347     1]\n [ 1932     0]]\n",
          "name": "stdout"
        }
      ]
    },
    {
      "metadata": {
        "trusted": true
      },
      "cell_type": "code",
      "source": "",
      "execution_count": null,
      "outputs": []
    }
  ],
  "metadata": {
    "kernelspec": {
      "name": "python3",
      "display_name": "Python 3",
      "language": "python"
    },
    "language_info": {
      "mimetype": "text/x-python",
      "nbconvert_exporter": "python",
      "name": "python",
      "pygments_lexer": "ipython3",
      "version": "3.5.4",
      "file_extension": ".py",
      "codemirror_mode": {
        "version": 3,
        "name": "ipython"
      }
    }
  },
  "nbformat": 4,
  "nbformat_minor": 2
}